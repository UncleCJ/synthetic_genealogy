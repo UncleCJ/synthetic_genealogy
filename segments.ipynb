{
 "metadata": {
  "language_info": {
   "codemirror_mode": {
    "name": "ipython",
    "version": 3
   },
   "file_extension": ".py",
   "mimetype": "text/x-python",
   "name": "python",
   "nbconvert_exporter": "python",
   "pygments_lexer": "ipython3",
   "version": "3.6.9"
  },
  "orig_nbformat": 2,
  "kernelspec": {
   "name": "python3",
   "display_name": "Python 3",
   "language": "python"
  }
 },
 "nbformat": 4,
 "nbformat_minor": 2,
 "cells": [
  {
   "cell_type": "code",
   "execution_count": 1,
   "metadata": {},
   "outputs": [],
   "source": [
    "# import csv\n",
    "# with open('data/segments-icw-head-cj-mh-2020-08-20.csv', newline='') as csvfile:\n",
    "#     spamreader = csv.reader(csvfile, delimiter=',', quotechar='\"')\n",
    "#     for row in spamreader:\n",
    "#         print(', '.join(row))"
   ]
  },
  {
   "cell_type": "code",
   "execution_count": 2,
   "metadata": {},
   "outputs": [
    {
     "output_type": "execute_result",
     "data": {
      "text/plain": [
       "                                   DNA-matchnings-ID                    Namn  \\\n",
       "0  D-74C86737-EDFA-45C6-8B35-CB41EE958B1D-D-3F7DD...  Carl-Johan Sveningsson   \n",
       "1  D-74C86737-EDFA-45C6-8B35-CB41EE958B1D-D-3F7DD...  Carl-Johan Sveningsson   \n",
       "2  D-74C86737-EDFA-45C6-8B35-CB41EE958B1D-D-3F7DD...  Carl-Johan Sveningsson   \n",
       "3  D-74C86737-EDFA-45C6-8B35-CB41EE958B1D-D-3F7DD...  Carl-Johan Sveningsson   \n",
       "4  D-74C86737-EDFA-45C6-8B35-CB41EE958B1D-D-3F7DD...  Carl-Johan Sveningsson   \n",
       "\n",
       "    Matchnamn  Kromosom  Starta plats  Avsluta plats  Börja RSID Avsluta RSID  \\\n",
       "0  Lars Ekros         1     105063644      180233647  rs12042136     rs357051   \n",
       "1  Lars Ekros         1     203115832      224881828   rs6686206    rs1436171   \n",
       "2  Lars Ekros         1     234382599      242042374  rs12119646  rs191573829   \n",
       "3  Lars Ekros         2       7921970      122966157   rs6745856    rs6751865   \n",
       "4  Lars Ekros         2     151001420      243068403    rs330586  rs140927403   \n",
       "\n",
       "   Centimorgan  Snp's  \n",
       "0         63.7  25856  \n",
       "1         27.5  12160  \n",
       "2         18.7   5504  \n",
       "3        121.8  57344  \n",
       "4        102.0  47743  "
      ],
      "text/html": "<div>\n<style scoped>\n    .dataframe tbody tr th:only-of-type {\n        vertical-align: middle;\n    }\n\n    .dataframe tbody tr th {\n        vertical-align: top;\n    }\n\n    .dataframe thead th {\n        text-align: right;\n    }\n</style>\n<table border=\"1\" class=\"dataframe\">\n  <thead>\n    <tr style=\"text-align: right;\">\n      <th></th>\n      <th>DNA-matchnings-ID</th>\n      <th>Namn</th>\n      <th>Matchnamn</th>\n      <th>Kromosom</th>\n      <th>Starta plats</th>\n      <th>Avsluta plats</th>\n      <th>Börja RSID</th>\n      <th>Avsluta RSID</th>\n      <th>Centimorgan</th>\n      <th>Snp's</th>\n    </tr>\n  </thead>\n  <tbody>\n    <tr>\n      <th>0</th>\n      <td>D-74C86737-EDFA-45C6-8B35-CB41EE958B1D-D-3F7DD...</td>\n      <td>Carl-Johan Sveningsson</td>\n      <td>Lars Ekros</td>\n      <td>1</td>\n      <td>105063644</td>\n      <td>180233647</td>\n      <td>rs12042136</td>\n      <td>rs357051</td>\n      <td>63.7</td>\n      <td>25856</td>\n    </tr>\n    <tr>\n      <th>1</th>\n      <td>D-74C86737-EDFA-45C6-8B35-CB41EE958B1D-D-3F7DD...</td>\n      <td>Carl-Johan Sveningsson</td>\n      <td>Lars Ekros</td>\n      <td>1</td>\n      <td>203115832</td>\n      <td>224881828</td>\n      <td>rs6686206</td>\n      <td>rs1436171</td>\n      <td>27.5</td>\n      <td>12160</td>\n    </tr>\n    <tr>\n      <th>2</th>\n      <td>D-74C86737-EDFA-45C6-8B35-CB41EE958B1D-D-3F7DD...</td>\n      <td>Carl-Johan Sveningsson</td>\n      <td>Lars Ekros</td>\n      <td>1</td>\n      <td>234382599</td>\n      <td>242042374</td>\n      <td>rs12119646</td>\n      <td>rs191573829</td>\n      <td>18.7</td>\n      <td>5504</td>\n    </tr>\n    <tr>\n      <th>3</th>\n      <td>D-74C86737-EDFA-45C6-8B35-CB41EE958B1D-D-3F7DD...</td>\n      <td>Carl-Johan Sveningsson</td>\n      <td>Lars Ekros</td>\n      <td>2</td>\n      <td>7921970</td>\n      <td>122966157</td>\n      <td>rs6745856</td>\n      <td>rs6751865</td>\n      <td>121.8</td>\n      <td>57344</td>\n    </tr>\n    <tr>\n      <th>4</th>\n      <td>D-74C86737-EDFA-45C6-8B35-CB41EE958B1D-D-3F7DD...</td>\n      <td>Carl-Johan Sveningsson</td>\n      <td>Lars Ekros</td>\n      <td>2</td>\n      <td>151001420</td>\n      <td>243068403</td>\n      <td>rs330586</td>\n      <td>rs140927403</td>\n      <td>102.0</td>\n      <td>47743</td>\n    </tr>\n  </tbody>\n</table>\n</div>"
     },
     "metadata": {},
     "execution_count": 2
    }
   ],
   "source": [
    "import pandas as pd\n",
    "df = pd.read_csv('data/segments-icw-cj-mh-2020-08-20.csv', sep=',')\n",
    "df.head()"
   ]
  },
  {
   "cell_type": "code",
   "execution_count": 3,
   "metadata": {},
   "outputs": [
    {
     "output_type": "execute_result",
     "data": {
      "text/plain": [
       "                                            Match ID                    Name  \\\n",
       "0  D-74C86737-EDFA-45C6-8B35-CB41EE958B1D-D-3F7DD...  Carl-Johan Sveningsson   \n",
       "1  D-74C86737-EDFA-45C6-8B35-CB41EE958B1D-D-3F7DD...  Carl-Johan Sveningsson   \n",
       "2  D-74C86737-EDFA-45C6-8B35-CB41EE958B1D-D-3F7DD...  Carl-Johan Sveningsson   \n",
       "3  D-74C86737-EDFA-45C6-8B35-CB41EE958B1D-D-3F7DD...  Carl-Johan Sveningsson   \n",
       "4  D-74C86737-EDFA-45C6-8B35-CB41EE958B1D-D-3F7DD...  Carl-Johan Sveningsson   \n",
       "\n",
       "        Match  Chr      Start        End  Start RSID     End RSID     cM  \\\n",
       "0  Lars Ekros    1  105063644  180233647  rs12042136     rs357051   63.7   \n",
       "1  Lars Ekros    1  203115832  224881828   rs6686206    rs1436171   27.5   \n",
       "2  Lars Ekros    1  234382599  242042374  rs12119646  rs191573829   18.7   \n",
       "3  Lars Ekros    2    7921970  122966157   rs6745856    rs6751865  121.8   \n",
       "4  Lars Ekros    2  151001420  243068403    rs330586  rs140927403  102.0   \n",
       "\n",
       "    SNPs  \n",
       "0  25856  \n",
       "1  12160  \n",
       "2   5504  \n",
       "3  57344  \n",
       "4  47743  "
      ],
      "text/html": "<div>\n<style scoped>\n    .dataframe tbody tr th:only-of-type {\n        vertical-align: middle;\n    }\n\n    .dataframe tbody tr th {\n        vertical-align: top;\n    }\n\n    .dataframe thead th {\n        text-align: right;\n    }\n</style>\n<table border=\"1\" class=\"dataframe\">\n  <thead>\n    <tr style=\"text-align: right;\">\n      <th></th>\n      <th>Match ID</th>\n      <th>Name</th>\n      <th>Match</th>\n      <th>Chr</th>\n      <th>Start</th>\n      <th>End</th>\n      <th>Start RSID</th>\n      <th>End RSID</th>\n      <th>cM</th>\n      <th>SNPs</th>\n    </tr>\n  </thead>\n  <tbody>\n    <tr>\n      <th>0</th>\n      <td>D-74C86737-EDFA-45C6-8B35-CB41EE958B1D-D-3F7DD...</td>\n      <td>Carl-Johan Sveningsson</td>\n      <td>Lars Ekros</td>\n      <td>1</td>\n      <td>105063644</td>\n      <td>180233647</td>\n      <td>rs12042136</td>\n      <td>rs357051</td>\n      <td>63.7</td>\n      <td>25856</td>\n    </tr>\n    <tr>\n      <th>1</th>\n      <td>D-74C86737-EDFA-45C6-8B35-CB41EE958B1D-D-3F7DD...</td>\n      <td>Carl-Johan Sveningsson</td>\n      <td>Lars Ekros</td>\n      <td>1</td>\n      <td>203115832</td>\n      <td>224881828</td>\n      <td>rs6686206</td>\n      <td>rs1436171</td>\n      <td>27.5</td>\n      <td>12160</td>\n    </tr>\n    <tr>\n      <th>2</th>\n      <td>D-74C86737-EDFA-45C6-8B35-CB41EE958B1D-D-3F7DD...</td>\n      <td>Carl-Johan Sveningsson</td>\n      <td>Lars Ekros</td>\n      <td>1</td>\n      <td>234382599</td>\n      <td>242042374</td>\n      <td>rs12119646</td>\n      <td>rs191573829</td>\n      <td>18.7</td>\n      <td>5504</td>\n    </tr>\n    <tr>\n      <th>3</th>\n      <td>D-74C86737-EDFA-45C6-8B35-CB41EE958B1D-D-3F7DD...</td>\n      <td>Carl-Johan Sveningsson</td>\n      <td>Lars Ekros</td>\n      <td>2</td>\n      <td>7921970</td>\n      <td>122966157</td>\n      <td>rs6745856</td>\n      <td>rs6751865</td>\n      <td>121.8</td>\n      <td>57344</td>\n    </tr>\n    <tr>\n      <th>4</th>\n      <td>D-74C86737-EDFA-45C6-8B35-CB41EE958B1D-D-3F7DD...</td>\n      <td>Carl-Johan Sveningsson</td>\n      <td>Lars Ekros</td>\n      <td>2</td>\n      <td>151001420</td>\n      <td>243068403</td>\n      <td>rs330586</td>\n      <td>rs140927403</td>\n      <td>102.0</td>\n      <td>47743</td>\n    </tr>\n  </tbody>\n</table>\n</div>"
     },
     "metadata": {},
     "execution_count": 3
    }
   ],
   "source": [
    "# df.columns\n",
    "df = df.rename(\n",
    "    columns={\n",
    "        # MyHeritage (svenska bulk):\n",
    "        'DNA-matchnings-ID': 'Match ID',\n",
    "        'Namn': 'Name',\n",
    "        'Matchnamn': 'Match',\n",
    "        'Kromosom': 'Chr',\n",
    "        'Starta plats': 'Start',\n",
    "        'Avsluta plats': 'End',\n",
    "        'Börja RSID': 'Start RSID',\n",
    "        'Avsluta RSID': 'End RSID',\n",
    "        'Centimorgan': 'cM',\n",
    "        'Snp\\'s': 'SNPs',\n",
    "        # MyHeritage (Chromosome browser):\n",
    "        'Match Name': 'Match',\n",
    "        'Chromosome': 'Chr',\n",
    "        'Start Location': 'Start',\n",
    "        'End Location': 'End',\n",
    "        'Centimorgans': 'cM',\n",
    "        # FamilyTreeDNA:\n",
    "        'Matching SNPs': 'SNPs'\n",
    "    }\n",
    ")\n",
    "# We could also add these columns from DNA Painter:\n",
    "# Confidence, Group, Side, Notes, Colour\n",
    "df.head()"
   ]
  },
  {
   "cell_type": "code",
   "execution_count": 4,
   "metadata": {},
   "outputs": [
    {
     "output_type": "execute_result",
     "data": {
      "text/plain": [
       "True"
      ]
     },
     "metadata": {},
     "execution_count": 4
    }
   ],
   "source": [
    "54957735 in pd.Interval(54957731, 58023328, closed='both')"
   ]
  },
  {
   "cell_type": "code",
   "execution_count": 5,
   "metadata": {},
   "outputs": [
    {
     "output_type": "execute_result",
     "data": {
      "text/plain": [
       "                                            Match ID                    Name  \\\n",
       "0  D-74C86737-EDFA-45C6-8B35-CB41EE958B1D-D-3F7DD...  Carl-Johan Sveningsson   \n",
       "1  D-74C86737-EDFA-45C6-8B35-CB41EE958B1D-D-3F7DD...  Carl-Johan Sveningsson   \n",
       "2  D-74C86737-EDFA-45C6-8B35-CB41EE958B1D-D-3F7DD...  Carl-Johan Sveningsson   \n",
       "3  D-74C86737-EDFA-45C6-8B35-CB41EE958B1D-D-3F7DD...  Carl-Johan Sveningsson   \n",
       "4  D-74C86737-EDFA-45C6-8B35-CB41EE958B1D-D-3F7DD...  Carl-Johan Sveningsson   \n",
       "\n",
       "        Match  Chr      Start        End  Start RSID     End RSID     cM  \\\n",
       "0  Lars Ekros    1  105063644  180233647  rs12042136     rs357051   63.7   \n",
       "1  Lars Ekros    1  203115832  224881828   rs6686206    rs1436171   27.5   \n",
       "2  Lars Ekros    1  234382599  242042374  rs12119646  rs191573829   18.7   \n",
       "3  Lars Ekros    2    7921970  122966157   rs6745856    rs6751865  121.8   \n",
       "4  Lars Ekros    2  151001420  243068403    rs330586  rs140927403  102.0   \n",
       "\n",
       "    SNPs                Interval  \n",
       "0  25856  [105063644, 180233647]  \n",
       "1  12160  [203115832, 224881828]  \n",
       "2   5504  [234382599, 242042374]  \n",
       "3  57344    [7921970, 122966157]  \n",
       "4  47743  [151001420, 243068403]  "
      ],
      "text/html": "<div>\n<style scoped>\n    .dataframe tbody tr th:only-of-type {\n        vertical-align: middle;\n    }\n\n    .dataframe tbody tr th {\n        vertical-align: top;\n    }\n\n    .dataframe thead th {\n        text-align: right;\n    }\n</style>\n<table border=\"1\" class=\"dataframe\">\n  <thead>\n    <tr style=\"text-align: right;\">\n      <th></th>\n      <th>Match ID</th>\n      <th>Name</th>\n      <th>Match</th>\n      <th>Chr</th>\n      <th>Start</th>\n      <th>End</th>\n      <th>Start RSID</th>\n      <th>End RSID</th>\n      <th>cM</th>\n      <th>SNPs</th>\n      <th>Interval</th>\n    </tr>\n  </thead>\n  <tbody>\n    <tr>\n      <th>0</th>\n      <td>D-74C86737-EDFA-45C6-8B35-CB41EE958B1D-D-3F7DD...</td>\n      <td>Carl-Johan Sveningsson</td>\n      <td>Lars Ekros</td>\n      <td>1</td>\n      <td>105063644</td>\n      <td>180233647</td>\n      <td>rs12042136</td>\n      <td>rs357051</td>\n      <td>63.7</td>\n      <td>25856</td>\n      <td>[105063644, 180233647]</td>\n    </tr>\n    <tr>\n      <th>1</th>\n      <td>D-74C86737-EDFA-45C6-8B35-CB41EE958B1D-D-3F7DD...</td>\n      <td>Carl-Johan Sveningsson</td>\n      <td>Lars Ekros</td>\n      <td>1</td>\n      <td>203115832</td>\n      <td>224881828</td>\n      <td>rs6686206</td>\n      <td>rs1436171</td>\n      <td>27.5</td>\n      <td>12160</td>\n      <td>[203115832, 224881828]</td>\n    </tr>\n    <tr>\n      <th>2</th>\n      <td>D-74C86737-EDFA-45C6-8B35-CB41EE958B1D-D-3F7DD...</td>\n      <td>Carl-Johan Sveningsson</td>\n      <td>Lars Ekros</td>\n      <td>1</td>\n      <td>234382599</td>\n      <td>242042374</td>\n      <td>rs12119646</td>\n      <td>rs191573829</td>\n      <td>18.7</td>\n      <td>5504</td>\n      <td>[234382599, 242042374]</td>\n    </tr>\n    <tr>\n      <th>3</th>\n      <td>D-74C86737-EDFA-45C6-8B35-CB41EE958B1D-D-3F7DD...</td>\n      <td>Carl-Johan Sveningsson</td>\n      <td>Lars Ekros</td>\n      <td>2</td>\n      <td>7921970</td>\n      <td>122966157</td>\n      <td>rs6745856</td>\n      <td>rs6751865</td>\n      <td>121.8</td>\n      <td>57344</td>\n      <td>[7921970, 122966157]</td>\n    </tr>\n    <tr>\n      <th>4</th>\n      <td>D-74C86737-EDFA-45C6-8B35-CB41EE958B1D-D-3F7DD...</td>\n      <td>Carl-Johan Sveningsson</td>\n      <td>Lars Ekros</td>\n      <td>2</td>\n      <td>151001420</td>\n      <td>243068403</td>\n      <td>rs330586</td>\n      <td>rs140927403</td>\n      <td>102.0</td>\n      <td>47743</td>\n      <td>[151001420, 243068403]</td>\n    </tr>\n  </tbody>\n</table>\n</div>"
     },
     "metadata": {},
     "execution_count": 5
    }
   ],
   "source": [
    "df['Interval'] = df.apply(\n",
    "    lambda row: pd.Interval(row['Start'], row['End'], closed='both'),\n",
    "    axis='columns'\n",
    ")\n",
    "df.head()"
   ]
  },
  {
   "cell_type": "code",
   "execution_count": 6,
   "metadata": {},
   "outputs": [
    {
     "output_type": "execute_result",
     "data": {
      "text/plain": [
       "                                               Match ID  \\\n",
       "28    D-74C86737-EDFA-45C6-8B35-CB41EE958B1D-D-3F7DD...   \n",
       "63    D-74C86737-EDFA-45C6-8B35-CB41EE958B1D-D-8F6DA...   \n",
       "82    D-74C86737-EDFA-45C6-8B35-CB41EE958B1D-D-AB7A0...   \n",
       "104   D-74C86737-EDFA-45C6-8B35-CB41EE958B1D-D-A4504...   \n",
       "105   D-74C86737-EDFA-45C6-8B35-CB41EE958B1D-D-A4504...   \n",
       "...                                                 ...   \n",
       "9149  D-74C86737-EDFA-45C6-8B35-CB41EE958B1D-D-94444...   \n",
       "9152  D-74C86737-EDFA-45C6-8B35-CB41EE958B1D-D-3CBB0...   \n",
       "9258  D-74C86737-EDFA-45C6-8B35-CB41EE958B1D-D-BDB31...   \n",
       "9313  D-74C86737-EDFA-45C6-8B35-CB41EE958B1D-D-2DEDE...   \n",
       "9320  D-74C86737-EDFA-45C6-8B35-CB41EE958B1D-D-7949E...   \n",
       "\n",
       "                        Name                   Match  Chr     Start       End  \\\n",
       "28    Carl-Johan Sveningsson              Lars Ekros   22  16055122  51214796   \n",
       "63    Carl-Johan Sveningsson       Malin Sveningsson   22  19677822  49684580   \n",
       "82    Carl-Johan Sveningsson        Andreas Holmgren   22  18502566  35177350   \n",
       "104   Carl-Johan Sveningsson     Svening Svenningson   22  16055122  23648478   \n",
       "105   Carl-Johan Sveningsson     Svening Svenningson   22  37619543  48745675   \n",
       "...                      ...                     ...  ...       ...       ...   \n",
       "9149  Carl-Johan Sveningsson           Ingelöv Rosby   22  27211572  32950053   \n",
       "9152  Carl-Johan Sveningsson  Jeremy Cleve Gustafson   22  27211572  32950053   \n",
       "9258  Carl-Johan Sveningsson       Mikayla Jennewine   22  17493293  19844671   \n",
       "9313  Carl-Johan Sveningsson              David Dunn   22  17304887  19677354   \n",
       "9320  Carl-Johan Sveningsson             Jackie Pace   22  17304887  19677354   \n",
       "\n",
       "       Start RSID     End RSID    cM   SNPs              Interval  \n",
       "28    rs117246541  rs190639024  74.1  22399  [16055122, 51214796]  \n",
       "63      rs5992460    rs2187753  60.5  19456  [19677822, 49684580]  \n",
       "82    rs117233348     rs137294  33.3   9984  [18502566, 35177350]  \n",
       "104   rs117246541    rs2267027  20.2   3712  [16055122, 23648478]  \n",
       "105     rs6000617    rs4239939  20.1   7168  [37619543, 48745675]  \n",
       "...           ...          ...   ...    ...                   ...  \n",
       "9149    rs2227187    rs2105865   8.2   3328  [27211572, 32950053]  \n",
       "9152    rs2227187    rs2105865   8.2   3328  [27211572, 32950053]  \n",
       "9258    rs2399153   rs13053155   8.1   1536  [17493293, 19844671]  \n",
       "9313     rs983305    rs7285884   8.0   1536  [17304887, 19677354]  \n",
       "9320     rs983305    rs7285884   8.0   1536  [17304887, 19677354]  \n",
       "\n",
       "[502 rows x 11 columns]"
      ],
      "text/html": "<div>\n<style scoped>\n    .dataframe tbody tr th:only-of-type {\n        vertical-align: middle;\n    }\n\n    .dataframe tbody tr th {\n        vertical-align: top;\n    }\n\n    .dataframe thead th {\n        text-align: right;\n    }\n</style>\n<table border=\"1\" class=\"dataframe\">\n  <thead>\n    <tr style=\"text-align: right;\">\n      <th></th>\n      <th>Match ID</th>\n      <th>Name</th>\n      <th>Match</th>\n      <th>Chr</th>\n      <th>Start</th>\n      <th>End</th>\n      <th>Start RSID</th>\n      <th>End RSID</th>\n      <th>cM</th>\n      <th>SNPs</th>\n      <th>Interval</th>\n    </tr>\n  </thead>\n  <tbody>\n    <tr>\n      <th>28</th>\n      <td>D-74C86737-EDFA-45C6-8B35-CB41EE958B1D-D-3F7DD...</td>\n      <td>Carl-Johan Sveningsson</td>\n      <td>Lars Ekros</td>\n      <td>22</td>\n      <td>16055122</td>\n      <td>51214796</td>\n      <td>rs117246541</td>\n      <td>rs190639024</td>\n      <td>74.1</td>\n      <td>22399</td>\n      <td>[16055122, 51214796]</td>\n    </tr>\n    <tr>\n      <th>63</th>\n      <td>D-74C86737-EDFA-45C6-8B35-CB41EE958B1D-D-8F6DA...</td>\n      <td>Carl-Johan Sveningsson</td>\n      <td>Malin Sveningsson</td>\n      <td>22</td>\n      <td>19677822</td>\n      <td>49684580</td>\n      <td>rs5992460</td>\n      <td>rs2187753</td>\n      <td>60.5</td>\n      <td>19456</td>\n      <td>[19677822, 49684580]</td>\n    </tr>\n    <tr>\n      <th>82</th>\n      <td>D-74C86737-EDFA-45C6-8B35-CB41EE958B1D-D-AB7A0...</td>\n      <td>Carl-Johan Sveningsson</td>\n      <td>Andreas Holmgren</td>\n      <td>22</td>\n      <td>18502566</td>\n      <td>35177350</td>\n      <td>rs117233348</td>\n      <td>rs137294</td>\n      <td>33.3</td>\n      <td>9984</td>\n      <td>[18502566, 35177350]</td>\n    </tr>\n    <tr>\n      <th>104</th>\n      <td>D-74C86737-EDFA-45C6-8B35-CB41EE958B1D-D-A4504...</td>\n      <td>Carl-Johan Sveningsson</td>\n      <td>Svening Svenningson</td>\n      <td>22</td>\n      <td>16055122</td>\n      <td>23648478</td>\n      <td>rs117246541</td>\n      <td>rs2267027</td>\n      <td>20.2</td>\n      <td>3712</td>\n      <td>[16055122, 23648478]</td>\n    </tr>\n    <tr>\n      <th>105</th>\n      <td>D-74C86737-EDFA-45C6-8B35-CB41EE958B1D-D-A4504...</td>\n      <td>Carl-Johan Sveningsson</td>\n      <td>Svening Svenningson</td>\n      <td>22</td>\n      <td>37619543</td>\n      <td>48745675</td>\n      <td>rs6000617</td>\n      <td>rs4239939</td>\n      <td>20.1</td>\n      <td>7168</td>\n      <td>[37619543, 48745675]</td>\n    </tr>\n    <tr>\n      <th>...</th>\n      <td>...</td>\n      <td>...</td>\n      <td>...</td>\n      <td>...</td>\n      <td>...</td>\n      <td>...</td>\n      <td>...</td>\n      <td>...</td>\n      <td>...</td>\n      <td>...</td>\n      <td>...</td>\n    </tr>\n    <tr>\n      <th>9149</th>\n      <td>D-74C86737-EDFA-45C6-8B35-CB41EE958B1D-D-94444...</td>\n      <td>Carl-Johan Sveningsson</td>\n      <td>Ingelöv Rosby</td>\n      <td>22</td>\n      <td>27211572</td>\n      <td>32950053</td>\n      <td>rs2227187</td>\n      <td>rs2105865</td>\n      <td>8.2</td>\n      <td>3328</td>\n      <td>[27211572, 32950053]</td>\n    </tr>\n    <tr>\n      <th>9152</th>\n      <td>D-74C86737-EDFA-45C6-8B35-CB41EE958B1D-D-3CBB0...</td>\n      <td>Carl-Johan Sveningsson</td>\n      <td>Jeremy Cleve Gustafson</td>\n      <td>22</td>\n      <td>27211572</td>\n      <td>32950053</td>\n      <td>rs2227187</td>\n      <td>rs2105865</td>\n      <td>8.2</td>\n      <td>3328</td>\n      <td>[27211572, 32950053]</td>\n    </tr>\n    <tr>\n      <th>9258</th>\n      <td>D-74C86737-EDFA-45C6-8B35-CB41EE958B1D-D-BDB31...</td>\n      <td>Carl-Johan Sveningsson</td>\n      <td>Mikayla Jennewine</td>\n      <td>22</td>\n      <td>17493293</td>\n      <td>19844671</td>\n      <td>rs2399153</td>\n      <td>rs13053155</td>\n      <td>8.1</td>\n      <td>1536</td>\n      <td>[17493293, 19844671]</td>\n    </tr>\n    <tr>\n      <th>9313</th>\n      <td>D-74C86737-EDFA-45C6-8B35-CB41EE958B1D-D-2DEDE...</td>\n      <td>Carl-Johan Sveningsson</td>\n      <td>David Dunn</td>\n      <td>22</td>\n      <td>17304887</td>\n      <td>19677354</td>\n      <td>rs983305</td>\n      <td>rs7285884</td>\n      <td>8.0</td>\n      <td>1536</td>\n      <td>[17304887, 19677354]</td>\n    </tr>\n    <tr>\n      <th>9320</th>\n      <td>D-74C86737-EDFA-45C6-8B35-CB41EE958B1D-D-7949E...</td>\n      <td>Carl-Johan Sveningsson</td>\n      <td>Jackie Pace</td>\n      <td>22</td>\n      <td>17304887</td>\n      <td>19677354</td>\n      <td>rs983305</td>\n      <td>rs7285884</td>\n      <td>8.0</td>\n      <td>1536</td>\n      <td>[17304887, 19677354]</td>\n    </tr>\n  </tbody>\n</table>\n<p>502 rows × 11 columns</p>\n</div>"
     },
     "metadata": {},
     "execution_count": 6
    }
   ],
   "source": [
    "df[df['Chr'] == 22]"
   ]
  },
  {
   "cell_type": "code",
   "execution_count": 7,
   "metadata": {},
   "outputs": [],
   "source": [
    "grouped = df.groupby('Chr')"
   ]
  },
  {
   "cell_type": "code",
   "execution_count": 8,
   "metadata": {},
   "outputs": [
    {
     "output_type": "execute_result",
     "data": {
      "text/plain": [
       "                                              Match ID  \\\n",
       "0    D-74C86737-EDFA-45C6-8B35-CB41EE958B1D-D-3F7DD...   \n",
       "29   D-74C86737-EDFA-45C6-8B35-CB41EE958B1D-D-8F6DA...   \n",
       "64   D-74C86737-EDFA-45C6-8B35-CB41EE958B1D-D-AB7A0...   \n",
       "83   D-74C86737-EDFA-45C6-8B35-CB41EE958B1D-D-A4504...   \n",
       "106  D-74C86737-EDFA-45C6-8B35-CB41EE958B1D-D-04990...   \n",
       "\n",
       "                       Name                          Match  \n",
       "0    Carl-Johan Sveningsson                     Lars Ekros  \n",
       "29   Carl-Johan Sveningsson              Malin Sveningsson  \n",
       "64   Carl-Johan Sveningsson               Andreas Holmgren  \n",
       "83   Carl-Johan Sveningsson            Svening Svenningson  \n",
       "106  Carl-Johan Sveningsson  Jörgen Hans Olof Svenningsson  "
      ],
      "text/html": "<div>\n<style scoped>\n    .dataframe tbody tr th:only-of-type {\n        vertical-align: middle;\n    }\n\n    .dataframe tbody tr th {\n        vertical-align: top;\n    }\n\n    .dataframe thead th {\n        text-align: right;\n    }\n</style>\n<table border=\"1\" class=\"dataframe\">\n  <thead>\n    <tr style=\"text-align: right;\">\n      <th></th>\n      <th>Match ID</th>\n      <th>Name</th>\n      <th>Match</th>\n    </tr>\n  </thead>\n  <tbody>\n    <tr>\n      <th>0</th>\n      <td>D-74C86737-EDFA-45C6-8B35-CB41EE958B1D-D-3F7DD...</td>\n      <td>Carl-Johan Sveningsson</td>\n      <td>Lars Ekros</td>\n    </tr>\n    <tr>\n      <th>29</th>\n      <td>D-74C86737-EDFA-45C6-8B35-CB41EE958B1D-D-8F6DA...</td>\n      <td>Carl-Johan Sveningsson</td>\n      <td>Malin Sveningsson</td>\n    </tr>\n    <tr>\n      <th>64</th>\n      <td>D-74C86737-EDFA-45C6-8B35-CB41EE958B1D-D-AB7A0...</td>\n      <td>Carl-Johan Sveningsson</td>\n      <td>Andreas Holmgren</td>\n    </tr>\n    <tr>\n      <th>83</th>\n      <td>D-74C86737-EDFA-45C6-8B35-CB41EE958B1D-D-A4504...</td>\n      <td>Carl-Johan Sveningsson</td>\n      <td>Svening Svenningson</td>\n    </tr>\n    <tr>\n      <th>106</th>\n      <td>D-74C86737-EDFA-45C6-8B35-CB41EE958B1D-D-04990...</td>\n      <td>Carl-Johan Sveningsson</td>\n      <td>Jörgen Hans Olof Svenningsson</td>\n    </tr>\n  </tbody>\n</table>\n</div>"
     },
     "metadata": {},
     "execution_count": 8
    }
   ],
   "source": [
    "matches = df[['Match ID', 'Name', 'Match']].drop_duplicates()\n",
    "matches.head()"
   ]
  },
  {
   "cell_type": "code",
   "execution_count": 9,
   "metadata": {},
   "outputs": [
    {
     "output_type": "execute_result",
     "data": {
      "text/plain": [
       "                                            Match ID  Chr      Start  \\\n",
       "0  D-74C86737-EDFA-45C6-8B35-CB41EE958B1D-D-3F7DD...    1  105063644   \n",
       "1  D-74C86737-EDFA-45C6-8B35-CB41EE958B1D-D-3F7DD...    1  203115832   \n",
       "2  D-74C86737-EDFA-45C6-8B35-CB41EE958B1D-D-3F7DD...    1  234382599   \n",
       "3  D-74C86737-EDFA-45C6-8B35-CB41EE958B1D-D-3F7DD...    2    7921970   \n",
       "4  D-74C86737-EDFA-45C6-8B35-CB41EE958B1D-D-3F7DD...    2  151001420   \n",
       "\n",
       "         End  Start RSID     End RSID     cM   SNPs                Interval  \n",
       "0  180233647  rs12042136     rs357051   63.7  25856  [105063644, 180233647]  \n",
       "1  224881828   rs6686206    rs1436171   27.5  12160  [203115832, 224881828]  \n",
       "2  242042374  rs12119646  rs191573829   18.7   5504  [234382599, 242042374]  \n",
       "3  122966157   rs6745856    rs6751865  121.8  57344    [7921970, 122966157]  \n",
       "4  243068403    rs330586  rs140927403  102.0  47743  [151001420, 243068403]  "
      ],
      "text/html": "<div>\n<style scoped>\n    .dataframe tbody tr th:only-of-type {\n        vertical-align: middle;\n    }\n\n    .dataframe tbody tr th {\n        vertical-align: top;\n    }\n\n    .dataframe thead th {\n        text-align: right;\n    }\n</style>\n<table border=\"1\" class=\"dataframe\">\n  <thead>\n    <tr style=\"text-align: right;\">\n      <th></th>\n      <th>Match ID</th>\n      <th>Chr</th>\n      <th>Start</th>\n      <th>End</th>\n      <th>Start RSID</th>\n      <th>End RSID</th>\n      <th>cM</th>\n      <th>SNPs</th>\n      <th>Interval</th>\n    </tr>\n  </thead>\n  <tbody>\n    <tr>\n      <th>0</th>\n      <td>D-74C86737-EDFA-45C6-8B35-CB41EE958B1D-D-3F7DD...</td>\n      <td>1</td>\n      <td>105063644</td>\n      <td>180233647</td>\n      <td>rs12042136</td>\n      <td>rs357051</td>\n      <td>63.7</td>\n      <td>25856</td>\n      <td>[105063644, 180233647]</td>\n    </tr>\n    <tr>\n      <th>1</th>\n      <td>D-74C86737-EDFA-45C6-8B35-CB41EE958B1D-D-3F7DD...</td>\n      <td>1</td>\n      <td>203115832</td>\n      <td>224881828</td>\n      <td>rs6686206</td>\n      <td>rs1436171</td>\n      <td>27.5</td>\n      <td>12160</td>\n      <td>[203115832, 224881828]</td>\n    </tr>\n    <tr>\n      <th>2</th>\n      <td>D-74C86737-EDFA-45C6-8B35-CB41EE958B1D-D-3F7DD...</td>\n      <td>1</td>\n      <td>234382599</td>\n      <td>242042374</td>\n      <td>rs12119646</td>\n      <td>rs191573829</td>\n      <td>18.7</td>\n      <td>5504</td>\n      <td>[234382599, 242042374]</td>\n    </tr>\n    <tr>\n      <th>3</th>\n      <td>D-74C86737-EDFA-45C6-8B35-CB41EE958B1D-D-3F7DD...</td>\n      <td>2</td>\n      <td>7921970</td>\n      <td>122966157</td>\n      <td>rs6745856</td>\n      <td>rs6751865</td>\n      <td>121.8</td>\n      <td>57344</td>\n      <td>[7921970, 122966157]</td>\n    </tr>\n    <tr>\n      <th>4</th>\n      <td>D-74C86737-EDFA-45C6-8B35-CB41EE958B1D-D-3F7DD...</td>\n      <td>2</td>\n      <td>151001420</td>\n      <td>243068403</td>\n      <td>rs330586</td>\n      <td>rs140927403</td>\n      <td>102.0</td>\n      <td>47743</td>\n      <td>[151001420, 243068403]</td>\n    </tr>\n  </tbody>\n</table>\n</div>"
     },
     "metadata": {},
     "execution_count": 9
    }
   ],
   "source": [
    "# segments = df[['Match ID', 'Name', 'Match', 'Chr', 'Start', 'End', 'Start RSID', 'End RSID', 'cM', 'SNPs', 'Interval']]\n",
    "segments = df[['Match ID', 'Chr', 'Start', 'End', 'Start RSID', 'End RSID', 'cM', 'SNPs', 'Interval']]\n",
    "segments.head()"
   ]
  },
  {
   "cell_type": "code",
   "execution_count": 10,
   "metadata": {},
   "outputs": [
    {
     "output_type": "execute_result",
     "data": {
      "text/plain": [
       "{1: range(0, 214066000, 200000),\n",
       " 2: range(0, 222889000, 200000),\n",
       " 3: range(0, 186938000, 200000),\n",
       " 4: range(0, 169035000, 200000),\n",
       " 5: range(0, 170954000, 200000),\n",
       " 6: range(0, 165022000, 200000),\n",
       " 7: range(0, 149414000, 200000),\n",
       " 8: range(0, 125148000, 200000),\n",
       " 9: range(0, 107440000, 200000),\n",
       " 10: range(0, 127894000, 200000),\n",
       " 11: range(0, 129193000, 200000),\n",
       " 12: range(0, 125198000, 200000),\n",
       " 13: range(0, 93711000, 200000),\n",
       " 14: range(0, 89344000, 200000),\n",
       " 15: range(0, 73467000, 200000),\n",
       " 16: range(0, 74037000, 200000),\n",
       " 17: range(0, 73367000, 200000),\n",
       " 18: range(0, 73078000, 200000),\n",
       " 19: range(0, 56044000, 200000),\n",
       " 20: range(0, 63317000, 200000),\n",
       " 21: range(0, 33824000, 200000),\n",
       " 22: range(0, 33786000, 200000)}"
      ]
     },
     "metadata": {},
     "execution_count": 10
    }
   ],
   "source": [
    "# https://en.wikipedia.org/wiki/Single-nucleotide_polymorphism\n",
    "chr_bplen = {\n",
    "    1: 214066000,\n",
    "    2: 222889000,\n",
    "    3: 186938000,\n",
    "    4: 169035000,\n",
    "    5: 170954000,\n",
    "    6: 165022000,\n",
    "    7: 149414000,\n",
    "    8: 125148000,\n",
    "    9: 107440000,\n",
    "    10: 127894000,\n",
    "    11: 129193000,\n",
    "    12: 125198000,\n",
    "    13: 93711000,\n",
    "    14: 89344000,\n",
    "    15: 73467000,\n",
    "    16: 74037000,\n",
    "    17: 73367000,\n",
    "    18: 73078000,\n",
    "    19: 56044000,\n",
    "    20: 63317000,\n",
    "    21: 33824000,\n",
    "    22: 33786000\n",
    "}\n",
    "# Chr 1 214066000 bps / 1000 samples ~ 200000 bps\n",
    "{chr: range(0, bp, 200000) for chr, bp in chr_bplen.items()}"
   ]
  },
  {
   "cell_type": "code",
   "execution_count": 11,
   "metadata": {},
   "outputs": [
    {
     "output_type": "stream",
     "name": "stdout",
     "text": [
      "Help on class Interval in module pandas._libs.interval:\n\nclass Interval(IntervalMixin)\n |  Immutable object implementing an Interval, a bounded slice-like interval.\n |  \n |  Parameters\n |  ----------\n |  left : orderable scalar\n |      Left bound for the interval.\n |  right : orderable scalar\n |      Right bound for the interval.\n |  closed : {'right', 'left', 'both', 'neither'}, default 'right'\n |      Whether the interval is closed on the left-side, right-side, both or\n |      neither. See the Notes for more detailed explanation.\n |  \n |  See Also\n |  --------\n |  IntervalIndex : An Index of Interval objects that are all closed on the\n |      same side.\n |  cut : Convert continuous data into discrete bins (Categorical\n |      of Interval objects).\n |  qcut : Convert continuous data into bins (Categorical of Interval objects)\n |      based on quantiles.\n |  Period : Represents a period of time.\n |  \n |  Notes\n |  -----\n |  The parameters `left` and `right` must be from the same type, you must be\n |  able to compare them and they must satisfy ``left <= right``.\n |  \n |  A closed interval (in mathematics denoted by square brackets) contains\n |  its endpoints, i.e. the closed interval ``[0, 5]`` is characterized by the\n |  conditions ``0 <= x <= 5``. This is what ``closed='both'`` stands for.\n |  An open interval (in mathematics denoted by parentheses) does not contain\n |  its endpoints, i.e. the open interval ``(0, 5)`` is characterized by the\n |  conditions ``0 < x < 5``. This is what ``closed='neither'`` stands for.\n |  Intervals can also be half-open or half-closed, i.e. ``[0, 5)`` is\n |  described by ``0 <= x < 5`` (``closed='left'``) and ``(0, 5]`` is\n |  described by ``0 < x <= 5`` (``closed='right'``).\n |  \n |  Examples\n |  --------\n |  It is possible to build Intervals of different types, like numeric ones:\n |  \n |  >>> iv = pd.Interval(left=0, right=5)\n |  >>> iv\n |  Interval(0, 5, closed='right')\n |  \n |  You can check if an element belongs to it\n |  \n |  >>> 2.5 in iv\n |  True\n |  \n |  You can test the bounds (``closed='right'``, so ``0 < x <= 5``):\n |  \n |  >>> 0 in iv\n |  False\n |  >>> 5 in iv\n |  True\n |  >>> 0.0001 in iv\n |  True\n |  \n |  Calculate its length\n |  \n |  >>> iv.length\n |  5\n |  \n |  You can operate with `+` and `*` over an Interval and the operation\n |  is applied to each of its bounds, so the result depends on the type\n |  of the bound elements\n |  \n |  >>> shifted_iv = iv + 3\n |  >>> shifted_iv\n |  Interval(3, 8, closed='right')\n |  >>> extended_iv = iv * 10.0\n |  >>> extended_iv\n |  Interval(0.0, 50.0, closed='right')\n |  \n |  To create a time interval you can use Timestamps as the bounds\n |  \n |  >>> year_2017 = pd.Interval(pd.Timestamp('2017-01-01 00:00:00'),\n |  ...                         pd.Timestamp('2018-01-01 00:00:00'),\n |  ...                         closed='left')\n |  >>> pd.Timestamp('2017-01-01 00:00') in year_2017\n |  True\n |  >>> year_2017.length\n |  Timedelta('365 days 00:00:00')\n |  \n |  And also you can create string intervals\n |  \n |  >>> volume_1 = pd.Interval('Ant', 'Dog', closed='both')\n |  >>> 'Bee' in volume_1\n |  True\n |  \n |  Method resolution order:\n |      Interval\n |      IntervalMixin\n |      builtins.object\n |  \n |  Methods defined here:\n |  \n |  __add__(self, value, /)\n |      Return self+value.\n |  \n |  __contains__(self, key, /)\n |      Return key in self.\n |  \n |  __eq__(self, value, /)\n |      Return self==value.\n |  \n |  __floordiv__(self, value, /)\n |      Return self//value.\n |  \n |  __ge__(self, value, /)\n |      Return self>=value.\n |  \n |  __gt__(self, value, /)\n |      Return self>value.\n |  \n |  __hash__(self, /)\n |      Return hash(self).\n |  \n |  __init__(self, /, *args, **kwargs)\n |      Initialize self.  See help(type(self)) for accurate signature.\n |  \n |  __le__(self, value, /)\n |      Return self<=value.\n |  \n |  __lt__(self, value, /)\n |      Return self<value.\n |  \n |  __mul__(self, value, /)\n |      Return self*value.\n |  \n |  __ne__(self, value, /)\n |      Return self!=value.\n |  \n |  __new__(*args, **kwargs) from builtins.type\n |      Create and return a new object.  See help(type) for accurate signature.\n |  \n |  __radd__(self, value, /)\n |      Return value+self.\n |  \n |  __reduce__(...)\n |      helper for pickle\n |  \n |  __repr__(self, /)\n |      Return repr(self).\n |  \n |  __rfloordiv__(self, value, /)\n |      Return value//self.\n |  \n |  __rmul__(self, value, /)\n |      Return value*self.\n |  \n |  __rsub__(self, value, /)\n |      Return value-self.\n |  \n |  __rtruediv__(self, value, /)\n |      Return value/self.\n |  \n |  __str__(self, /)\n |      Return str(self).\n |  \n |  __sub__(self, value, /)\n |      Return self-value.\n |  \n |  __truediv__(self, value, /)\n |      Return self/value.\n |  \n |  overlaps(...)\n |      Check whether two Interval objects overlap.\n |      \n |      Two intervals overlap if they share a common point, including closed\n |      endpoints. Intervals that only have an open endpoint in common do not\n |      overlap.\n |      \n |      .. versionadded:: 0.24.0\n |      \n |      Parameters\n |      ----------\n |      other : Interval\n |          Interval to check against for an overlap.\n |      \n |      Returns\n |      -------\n |      bool\n |          True if the two intervals overlap.\n |      \n |      See Also\n |      --------\n |      IntervalArray.overlaps : The corresponding method for IntervalArray.\n |      IntervalIndex.overlaps : The corresponding method for IntervalIndex.\n |      \n |      Examples\n |      --------\n |      >>> i1 = pd.Interval(0, 2)\n |      >>> i2 = pd.Interval(1, 3)\n |      >>> i1.overlaps(i2)\n |      True\n |      >>> i3 = pd.Interval(4, 5)\n |      >>> i1.overlaps(i3)\n |      False\n |      \n |      Intervals that share closed endpoints overlap:\n |      \n |      >>> i4 = pd.Interval(0, 1, closed='both')\n |      >>> i5 = pd.Interval(1, 2, closed='both')\n |      >>> i4.overlaps(i5)\n |      True\n |      \n |      Intervals that only have an open endpoint in common do not overlap:\n |      \n |      >>> i6 = pd.Interval(1, 2, closed='neither')\n |      >>> i4.overlaps(i6)\n |      False\n |  \n |  ----------------------------------------------------------------------\n |  Data descriptors defined here:\n |  \n |  closed\n |      Whether the interval is closed on the left-side, right-side, both or\n |      neither.\n |  \n |  left\n |      Left bound for the interval.\n |  \n |  right\n |      Right bound for the interval.\n |  \n |  ----------------------------------------------------------------------\n |  Data and other attributes defined here:\n |  \n |  __array_priority__ = 1000\n |  \n |  ----------------------------------------------------------------------\n |  Methods inherited from IntervalMixin:\n |  \n |  __setstate__ = __setstate_cython__(...)\n |  \n |  ----------------------------------------------------------------------\n |  Data descriptors inherited from IntervalMixin:\n |  \n |  closed_left\n |      Check if the interval is closed on the left side.\n |      \n |      For the meaning of `closed` and `open` see :class:`~pandas.Interval`.\n |      \n |      Returns\n |      -------\n |      bool\n |          True if the Interval is closed on the left-side.\n |  \n |  closed_right\n |      Check if the interval is closed on the right side.\n |      \n |      For the meaning of `closed` and `open` see :class:`~pandas.Interval`.\n |      \n |      Returns\n |      -------\n |      bool\n |          True if the Interval is closed on the left-side.\n |  \n |  is_empty\n |      Indicates if an interval is empty, meaning it contains no points.\n |      \n |      .. versionadded:: 0.25.0\n |      \n |      Returns\n |      -------\n |      bool or ndarray\n |          A boolean indicating if a scalar :class:`Interval` is empty, or a\n |          boolean ``ndarray`` positionally indicating if an ``Interval`` in\n |          an :class:`~arrays.IntervalArray` or :class:`IntervalIndex` is\n |          empty.\n |      \n |      Examples\n |      --------\n |      An :class:`Interval` that contains points is not empty:\n |      \n |      >>> pd.Interval(0, 1, closed='right').is_empty\n |      False\n |      \n |      An ``Interval`` that does not contain any points is empty:\n |      \n |      >>> pd.Interval(0, 0, closed='right').is_empty\n |      True\n |      >>> pd.Interval(0, 0, closed='left').is_empty\n |      True\n |      >>> pd.Interval(0, 0, closed='neither').is_empty\n |      True\n |      \n |      An ``Interval`` that contains a single point is not empty:\n |      \n |      >>> pd.Interval(0, 0, closed='both').is_empty\n |      False\n |      \n |      An :class:`~arrays.IntervalArray` or :class:`IntervalIndex` returns a\n |      boolean ``ndarray`` positionally indicating if an ``Interval`` is\n |      empty:\n |      \n |      >>> ivs = [pd.Interval(0, 0, closed='neither'),\n |      ...        pd.Interval(1, 2, closed='neither')]\n |      >>> pd.arrays.IntervalArray(ivs).is_empty\n |      array([ True, False])\n |      \n |      Missing values are not considered empty:\n |      \n |      >>> ivs = [pd.Interval(0, 0, closed='neither'), np.nan]\n |      >>> pd.IntervalIndex(ivs).is_empty\n |      array([ True, False])\n |  \n |  length\n |      Return the length of the Interval.\n |  \n |  mid\n |      Return the midpoint of the Interval.\n |  \n |  open_left\n |      Check if the interval is open on the left side.\n |      \n |      For the meaning of `closed` and `open` see :class:`~pandas.Interval`.\n |      \n |      Returns\n |      -------\n |      bool\n |          True if the Interval is closed on the left-side.\n |  \n |  open_right\n |      Check if the interval is open on the right side.\n |      \n |      For the meaning of `closed` and `open` see :class:`~pandas.Interval`.\n |      \n |      Returns\n |      -------\n |      bool\n |          True if the Interval is closed on the left-side.\n\n"
     ]
    }
   ],
   "source": [
    "help(pd.Interval)"
   ]
  },
  {
   "cell_type": "code",
   "execution_count": 12,
   "metadata": {},
   "outputs": [
    {
     "output_type": "execute_result",
     "data": {
      "text/plain": [
       "111"
      ]
     },
     "metadata": {},
     "execution_count": 12
    }
   ],
   "source": [
    "segments200k = segments.apply(\n",
    "    lambda row: 200000 in row['Interval'],\n",
    "    axis='columns'\n",
    ")\n",
    "sum(segments200k)"
   ]
  }
 ]
}